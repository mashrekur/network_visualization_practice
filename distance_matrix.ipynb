{
 "cells": [
  {
   "cell_type": "code",
   "execution_count": 8,
   "metadata": {},
   "outputs": [],
   "source": [
    "import random\n",
    "import numpy as np"
   ]
  },
  {
   "cell_type": "code",
   "execution_count": 10,
   "metadata": {},
   "outputs": [
    {
     "data": {
      "text/plain": [
       "[(18, 17),\n",
       " (3, 17),\n",
       " (7, 8),\n",
       " (19, 3),\n",
       " (19, 11),\n",
       " (5, 3),\n",
       " (12, 1),\n",
       " (13, 6),\n",
       " (11, 14),\n",
       " (1, 8)]"
      ]
     },
     "execution_count": 10,
     "metadata": {},
     "output_type": "execute_result"
    }
   ],
   "source": [
    "radius = 5\n",
    "rangeX = (0, 20)\n",
    "rangeY = (0, 20)\n",
    "qty = 10  # or however many points you want\n",
    "\n",
    "# Generate a set of all points within 20 of the origin, to be used as offsets later\n",
    "deltas = set()\n",
    "for x in range(-radius, radius+1):\n",
    "    for y in range(-radius, radius+1):\n",
    "        if x*x + y*y <= radius*radius:\n",
    "            deltas.add((x,y))\n",
    "\n",
    "randPoints = []\n",
    "excluded = set()\n",
    "i = 0\n",
    "while i<qty:\n",
    "    x = random.randrange(*rangeX)\n",
    "    y = random.randrange(*rangeY)\n",
    "    if (x,y) in excluded: continue\n",
    "    randPoints.append((x,y))\n",
    "    i += 1\n",
    "    excluded.update((x+dx, y+dy) for (dx,dy) in deltas)\n",
    "randPoints"
   ]
  },
  {
   "cell_type": "code",
   "execution_count": 13,
   "metadata": {},
   "outputs": [
    {
     "data": {
      "text/plain": [
       "array([[18, 17],\n",
       "       [ 3, 17],\n",
       "       [ 7,  8],\n",
       "       [19,  3],\n",
       "       [19, 11],\n",
       "       [ 5,  3],\n",
       "       [12,  1],\n",
       "       [13,  6],\n",
       "       [11, 14],\n",
       "       [ 1,  8]])"
      ]
     },
     "execution_count": 13,
     "metadata": {},
     "output_type": "execute_result"
    }
   ],
   "source": [
    "coord_array = np.array(randPoints)\n",
    "coord_array"
   ]
  },
  {
   "cell_type": "code",
   "execution_count": null,
   "metadata": {},
   "outputs": [],
   "source": []
  }
 ],
 "metadata": {
  "kernelspec": {
   "display_name": "Python 3",
   "language": "python",
   "name": "python3"
  },
  "language_info": {
   "codemirror_mode": {
    "name": "ipython",
    "version": 3
   },
   "file_extension": ".py",
   "mimetype": "text/x-python",
   "name": "python",
   "nbconvert_exporter": "python",
   "pygments_lexer": "ipython3",
   "version": "3.7.1"
  }
 },
 "nbformat": 4,
 "nbformat_minor": 2
}
