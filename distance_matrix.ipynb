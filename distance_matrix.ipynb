{
 "cells": [
  {
   "cell_type": "code",
   "execution_count": 56,
   "metadata": {},
   "outputs": [],
   "source": [
    "import random\n",
    "import numpy as np\n",
    "import matplotlib.pyplot as plt\n",
    "import sklearn.metrics"
   ]
  },
  {
   "cell_type": "code",
   "execution_count": 10,
   "metadata": {},
   "outputs": [
    {
     "data": {
      "text/plain": [
       "[(18, 17),\n",
       " (3, 17),\n",
       " (7, 8),\n",
       " (19, 3),\n",
       " (19, 11),\n",
       " (5, 3),\n",
       " (12, 1),\n",
       " (13, 6),\n",
       " (11, 14),\n",
       " (1, 8)]"
      ]
     },
     "execution_count": 10,
     "metadata": {},
     "output_type": "execute_result"
    }
   ],
   "source": [
    "radius = 5\n",
    "rangeX = (0, 20)\n",
    "rangeY = (0, 20)\n",
    "qty = 10  # or however many points you want\n",
    "\n",
    "# Generate a set of all points within 20 of the origin, to be used as offsets later\n",
    "deltas = set()\n",
    "for x in range(-radius, radius+1):\n",
    "    for y in range(-radius, radius+1):\n",
    "        if x*x + y*y <= radius*radius:\n",
    "            deltas.add((x,y))\n",
    "\n",
    "randPoints = []\n",
    "excluded = set()\n",
    "i = 0\n",
    "while i<qty:\n",
    "    x = random.randrange(*rangeX)\n",
    "    y = random.randrange(*rangeY)\n",
    "    if (x,y) in excluded: continue\n",
    "    randPoints.append((x,y))\n",
    "    i += 1\n",
    "    excluded.update((x+dx, y+dy) for (dx,dy) in deltas)\n",
    "randPoints"
   ]
  },
  {
   "cell_type": "code",
   "execution_count": 13,
   "metadata": {},
   "outputs": [
    {
     "data": {
      "text/plain": [
       "array([[18, 17],\n",
       "       [ 3, 17],\n",
       "       [ 7,  8],\n",
       "       [19,  3],\n",
       "       [19, 11],\n",
       "       [ 5,  3],\n",
       "       [12,  1],\n",
       "       [13,  6],\n",
       "       [11, 14],\n",
       "       [ 1,  8]])"
      ]
     },
     "execution_count": 13,
     "metadata": {},
     "output_type": "execute_result"
    }
   ],
   "source": [
    "coord_array = np.array(randPoints)\n",
    "coord_array"
   ]
  },
  {
   "cell_type": "code",
   "execution_count": 48,
   "metadata": {},
   "outputs": [
    {
     "name": "stdout",
     "output_type": "stream",
     "text": [
      "[18, 3, 7, 19, 19, 5, 12, 13, 11]\n",
      "[17, 17, 8, 3, 11, 3, 1, 6, 14]\n"
     ]
    }
   ],
   "source": [
    "x_val = []\n",
    "y_val = []\n",
    "for i in range(0,9,1):\n",
    "    x_coord = coord_array[i][0]\n",
    "    y_coord = coord_array[i][1]\n",
    "    x_val.append(x_coord)\n",
    "    y_val.append(y_coord)\n",
    "print(x_val)\n",
    "print(y_val)"
   ]
  },
  {
   "cell_type": "code",
   "execution_count": 53,
   "metadata": {},
   "outputs": [
    {
     "data": {
      "text/plain": [
       "<matplotlib.collections.PathCollection at 0x615d790b8>"
      ]
     },
     "execution_count": 53,
     "metadata": {},
     "output_type": "execute_result"
    },
    {
     "data": {
      "image/png": "[encoded data removed]",
      "text/plain": [
       "<Figure size 432x288 with 1 Axes>"
      ]
     },
     "metadata": {
      "needs_background": "light"
     },
     "output_type": "display_data"
    }
   ],
   "source": [
    "plt.scatter(x_val,y_val)"
   ]
  },
  {
   "cell_type": "code",
   "execution_count": 61,
   "metadata": {},
   "outputs": [
    {
     "data": {
      "text/plain": [
       "array([[ 0.        , 15.        , 14.2126704 , 14.03566885,  6.08276253,\n",
       "        19.10497317, 17.08800749, 12.08304597,  7.61577311, 19.23538406],\n",
       "       [15.        ,  0.        ,  9.8488578 , 21.26029163, 17.08800749,\n",
       "        14.14213562, 18.35755975, 14.86606875,  8.54400375,  9.21954446],\n",
       "       [14.2126704 ,  9.8488578 ,  0.        , 13.        , 12.36931688,\n",
       "         5.38516481,  8.60232527,  6.32455532,  7.21110255,  6.        ],\n",
       "       [14.03566885, 21.26029163, 13.        ,  0.        ,  8.        ,\n",
       "        14.        ,  7.28010989,  6.70820393, 13.60147051, 18.68154169],\n",
       "       [ 6.08276253, 17.08800749, 12.36931688,  8.        ,  0.        ,\n",
       "        16.1245155 , 12.20655562,  7.81024968,  8.54400375, 18.24828759],\n",
       "       [19.10497317, 14.14213562,  5.38516481, 14.        , 16.1245155 ,\n",
       "         0.        ,  7.28010989,  8.54400375, 12.52996409,  6.40312424],\n",
       "       [17.08800749, 18.35755975,  8.60232527,  7.28010989, 12.20655562,\n",
       "         7.28010989,  0.        ,  5.09901951, 13.03840481, 13.03840481],\n",
       "       [12.08304597, 14.86606875,  6.32455532,  6.70820393,  7.81024968,\n",
       "         8.54400375,  5.09901951,  0.        ,  8.24621125, 12.16552506],\n",
       "       [ 7.61577311,  8.54400375,  7.21110255, 13.60147051,  8.54400375,\n",
       "        12.52996409, 13.03840481,  8.24621125,  0.        , 11.66190379],\n",
       "       [19.23538406,  9.21954446,  6.        , 18.68154169, 18.24828759,\n",
       "         6.40312424, 13.03840481, 12.16552506, 11.66190379,  0.        ]])"
      ]
     },
     "execution_count": 61,
     "metadata": {},
     "output_type": "execute_result"
    }
   ],
   "source": [
    "#make a distance matrix with sklearn\n",
    "dist_matrix = sklearn.metrics.pairwise.euclidean_distances(coord_array)\n",
    "dist_matrix"
   ]
  },
  {
   "cell_type": "code",
   "execution_count": null,
   "metadata": {},
   "outputs": [],
   "source": []
  }
 ],
 "metadata": {
  "kernelspec": {
   "display_name": "Python 3",
   "language": "python",
   "name": "python3"
  },
  "language_info": {
   "codemirror_mode": {
    "name": "ipython",
    "version": 3
   },
   "file_extension": ".py",
   "mimetype": "text/x-python",
   "name": "python",
   "nbconvert_exporter": "python",
   "pygments_lexer": "ipython3",
   "version": "3.7.1"
  }
 },
 "nbformat": 4,
 "nbformat_minor": 2
}
