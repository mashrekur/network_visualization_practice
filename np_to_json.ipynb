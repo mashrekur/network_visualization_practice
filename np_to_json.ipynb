{
 "cells": [
  {
   "cell_type": "code",
   "execution_count": 1,
   "metadata": {},
   "outputs": [],
   "source": [
    "import numpy as np"
   ]
  },
  {
   "cell_type": "code",
   "execution_count": 21,
   "metadata": {},
   "outputs": [],
   "source": [
    "# Load node array\n",
    "node_arr = np.load('node_array.npy', allow_pickle=True)\n",
    "\n",
    "# Load link array\n",
    "link_arr = np.load('link_array.npy', allow_pickle=True)"
   ]
  },
  {
   "cell_type": "code",
   "execution_count": 23,
   "metadata": {},
   "outputs": [
    {
     "data": {
      "text/plain": [
       "array([{'source': 0, 'target': 4, 'value': 4.02},\n",
       "       {'source': 0, 'target': 38, 'value': 2.73},\n",
       "       {'source': 0, 'target': 51, 'value': 2.27}, ...,\n",
       "       {'source': 559, 'target': 10, 'value': 2.12},\n",
       "       {'source': 560, 'target': 3, 'value': 2.04},\n",
       "       {'source': 565, 'target': 5, 'value': 2.03}], dtype=object)"
      ]
     },
     "execution_count": 23,
     "metadata": {},
     "output_type": "execute_result"
    }
   ],
   "source": [
    "link_arr"
   ]
  },
  {
   "cell_type": "code",
   "execution_count": null,
   "metadata": {},
   "outputs": [],
   "source": []
  }
 ],
 "metadata": {
  "kernelspec": {
   "display_name": "Python 3",
   "language": "python",
   "name": "python3"
  },
  "language_info": {
   "codemirror_mode": {
    "name": "ipython",
    "version": 3
   },
   "file_extension": ".py",
   "mimetype": "text/x-python",
   "name": "python",
   "nbconvert_exporter": "python",
   "pygments_lexer": "ipython3",
   "version": "3.7.1"
  }
 },
 "nbformat": 4,
 "nbformat_minor": 2
}
